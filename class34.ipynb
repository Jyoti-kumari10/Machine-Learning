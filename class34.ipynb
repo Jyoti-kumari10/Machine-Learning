{
 "cells": [
  {
   "cell_type": "code",
   "execution_count": 1,
   "id": "9888763b-3a8d-4ecb-9887-cc5112f1f4d1",
   "metadata": {},
   "outputs": [],
   "source": [
    "import pandas as pd\n",
    "import numpy as np"
   ]
  },
  {
   "cell_type": "code",
   "execution_count": 4,
   "id": "b6516412-bff7-4e81-aec2-4e4a70155498",
   "metadata": {},
   "outputs": [
    {
     "name": "stdout",
     "output_type": "stream",
     "text": [
      "   one  two\n",
      "a  1.0  1.0\n",
      "b  2.0  2.0\n",
      "c  NaN  3.0\n",
      "d  NaN  4.0\n",
      "e  5.0  NaN\n"
     ]
    }
   ],
   "source": [
    "data = {'one': pd.Series([1,2,5], index = ['a','b','e']),\n",
    "        'two':pd.Series([1,2,3,4], index = ['a','b','c','d'])}\n",
    "table = pd.DataFrame(data)\n",
    "print(table)"
   ]
  },
  {
   "cell_type": "code",
   "execution_count": 10,
   "id": "650f3442-ac5b-43e8-906c-165fb1d6bd80",
   "metadata": {},
   "outputs": [
    {
     "name": "stdout",
     "output_type": "stream",
     "text": [
      "<class 'numpy.ndarray'>\n",
      "        one  two\n",
      "0  1.000000  1.0\n",
      "1  2.000000  2.0\n",
      "2  2.666667  3.0\n",
      "3  2.666667  4.0\n",
      "4  5.000000  2.5\n"
     ]
    },
    {
     "name": "stderr",
     "output_type": "stream",
     "text": [
      "C:\\Users\\hp\\anaconda3\\Lib\\site-packages\\sklearn\\base.py:439: UserWarning: X does not have valid feature names, but SimpleImputer was fitted with feature names\n",
      "  warnings.warn(\n"
     ]
    }
   ],
   "source": [
    "from sklearn.impute import SimpleImputer\n",
    "im = SimpleImputer(missing_values = np.nan, strategy = 'mean')\n",
    "im.fit(table)\n",
    "imputed_data = im.transform(table.values)\n",
    "print(type(imputed_data))\n",
    "print(pd.DataFrame(imputed_data, columns = ['one', 'two']))"
   ]
  },
  {
   "cell_type": "code",
   "execution_count": 18,
   "id": "5d24eaa3-4f7f-4264-a8aa-9557135bb5cb",
   "metadata": {},
   "outputs": [
    {
     "name": "stdout",
     "output_type": "stream",
     "text": [
      "   Customer_id       Loan_type Income\n",
      "0            1       home_loan    30K\n",
      "1            2   Personal_loan    25K\n",
      "2            3  education_loan    15K\n",
      "3            4       home_loan    40K\n",
      "4            5     credit_loan    35K\n"
     ]
    }
   ],
   "source": [
    "data = {'Customer_id': pd.Series([1,2,3,4,5]),\n",
    "        'Loan_type':   pd.Series(['home_loan','Personal_loan','education_loan', 'home_loan', 'credit_loan']),\n",
    "        'Income':      pd.Series(['30K', '25K', '15K', '40K', '35K'])}\n",
    "loan_info = pd.DataFrame(data)\n",
    "print(loan_info)"
   ]
  },
  {
   "cell_type": "code",
   "execution_count": 20,
   "id": "f3777833-2d06-4fdf-aac7-264f5b12b3ea",
   "metadata": {},
   "outputs": [
    {
     "data": {
      "text/html": [
       "<div>\n",
       "<style scoped>\n",
       "    .dataframe tbody tr th:only-of-type {\n",
       "        vertical-align: middle;\n",
       "    }\n",
       "\n",
       "    .dataframe tbody tr th {\n",
       "        vertical-align: top;\n",
       "    }\n",
       "\n",
       "    .dataframe thead th {\n",
       "        text-align: right;\n",
       "    }\n",
       "</style>\n",
       "<table border=\"1\" class=\"dataframe\">\n",
       "  <thead>\n",
       "    <tr style=\"text-align: right;\">\n",
       "      <th></th>\n",
       "      <th>Customer_id</th>\n",
       "      <th>Loan_type_credit_loan</th>\n",
       "      <th>Loan_type_education_loan</th>\n",
       "      <th>Loan_type_home_loan</th>\n",
       "      <th>Income_25K</th>\n",
       "      <th>Income_30K</th>\n",
       "      <th>Income_35K</th>\n",
       "      <th>Income_40K</th>\n",
       "    </tr>\n",
       "  </thead>\n",
       "  <tbody>\n",
       "    <tr>\n",
       "      <th>0</th>\n",
       "      <td>1</td>\n",
       "      <td>False</td>\n",
       "      <td>False</td>\n",
       "      <td>True</td>\n",
       "      <td>False</td>\n",
       "      <td>True</td>\n",
       "      <td>False</td>\n",
       "      <td>False</td>\n",
       "    </tr>\n",
       "    <tr>\n",
       "      <th>1</th>\n",
       "      <td>2</td>\n",
       "      <td>False</td>\n",
       "      <td>False</td>\n",
       "      <td>False</td>\n",
       "      <td>True</td>\n",
       "      <td>False</td>\n",
       "      <td>False</td>\n",
       "      <td>False</td>\n",
       "    </tr>\n",
       "    <tr>\n",
       "      <th>2</th>\n",
       "      <td>3</td>\n",
       "      <td>False</td>\n",
       "      <td>True</td>\n",
       "      <td>False</td>\n",
       "      <td>False</td>\n",
       "      <td>False</td>\n",
       "      <td>False</td>\n",
       "      <td>False</td>\n",
       "    </tr>\n",
       "    <tr>\n",
       "      <th>3</th>\n",
       "      <td>4</td>\n",
       "      <td>False</td>\n",
       "      <td>False</td>\n",
       "      <td>True</td>\n",
       "      <td>False</td>\n",
       "      <td>False</td>\n",
       "      <td>False</td>\n",
       "      <td>True</td>\n",
       "    </tr>\n",
       "    <tr>\n",
       "      <th>4</th>\n",
       "      <td>5</td>\n",
       "      <td>True</td>\n",
       "      <td>False</td>\n",
       "      <td>False</td>\n",
       "      <td>False</td>\n",
       "      <td>False</td>\n",
       "      <td>True</td>\n",
       "      <td>False</td>\n",
       "    </tr>\n",
       "  </tbody>\n",
       "</table>\n",
       "</div>"
      ],
      "text/plain": [
       "   Customer_id  Loan_type_credit_loan  Loan_type_education_loan  \\\n",
       "0            1                  False                     False   \n",
       "1            2                  False                     False   \n",
       "2            3                  False                      True   \n",
       "3            4                  False                     False   \n",
       "4            5                   True                     False   \n",
       "\n",
       "   Loan_type_home_loan  Income_25K  Income_30K  Income_35K  Income_40K  \n",
       "0                 True       False        True       False       False  \n",
       "1                False        True       False       False       False  \n",
       "2                False       False       False       False       False  \n",
       "3                 True       False       False       False        True  \n",
       "4                False       False       False        True       False  "
      ]
     },
     "execution_count": 20,
     "metadata": {},
     "output_type": "execute_result"
    }
   ],
   "source": [
    "# get dummies \n",
    "pd.get_dummies (loan_info, prefix_sep = '_', drop_first = True)"
   ]
  },
  {
   "cell_type": "code",
   "execution_count": 23,
   "id": "f7f6dd0b-5758-466d-b8e3-a038b4aac257",
   "metadata": {},
   "outputs": [
    {
     "name": "stdout",
     "output_type": "stream",
     "text": [
      "   Customer_id  Loan_type  Income\n",
      "0            0          3       2\n",
      "1            1          0       1\n",
      "2            2          2       0\n",
      "3            3          3       4\n",
      "4            4          1       3\n"
     ]
    }
   ],
   "source": [
    "# label encoder \n",
    "from sklearn.preprocessing import LabelEncoder \n",
    "labelencoder = LabelEncoder()\n",
    "loan_info_upd = loan_info.apply(labelencoder.fit_transform)\n",
    "print(loan_info_upd)"
   ]
  },
  {
   "cell_type": "code",
   "execution_count": 24,
   "id": "348f07b2-2ca7-4a7e-815c-37579f9998d4",
   "metadata": {},
   "outputs": [
    {
     "name": "stdout",
     "output_type": "stream",
     "text": [
      "[[1. 0. 0. 0. 0. 0. 0. 0. 1. 0. 0. 1. 0. 0.]\n",
      " [0. 1. 0. 0. 0. 1. 0. 0. 0. 0. 1. 0. 0. 0.]\n",
      " [0. 0. 1. 0. 0. 0. 0. 1. 0. 1. 0. 0. 0. 0.]\n",
      " [0. 0. 0. 1. 0. 0. 0. 0. 1. 0. 0. 0. 0. 1.]\n",
      " [0. 0. 0. 0. 1. 0. 1. 0. 0. 0. 0. 0. 1. 0.]]\n"
     ]
    }
   ],
   "source": [
    "from sklearn.preprocessing import OneHotEncoder\n",
    "obj = OneHotEncoder()\n",
    "x = obj.fit_transform(loan_info).toarray()\n",
    "print(x)"
   ]
  },
  {
   "cell_type": "code",
   "execution_count": null,
   "id": "2a3f70cd-19ab-4aee-90d9-ad38b3966a3c",
   "metadata": {},
   "outputs": [],
   "source": []
  }
 ],
 "metadata": {
  "kernelspec": {
   "display_name": "Python 3 (ipykernel)",
   "language": "python",
   "name": "python3"
  },
  "language_info": {
   "codemirror_mode": {
    "name": "ipython",
    "version": 3
   },
   "file_extension": ".py",
   "mimetype": "text/x-python",
   "name": "python",
   "nbconvert_exporter": "python",
   "pygments_lexer": "ipython3",
   "version": "3.11.7"
  }
 },
 "nbformat": 4,
 "nbformat_minor": 5
}
